{
 "cells": [
  {
   "cell_type": "markdown",
   "id": "f4ecc02e-6d6f-4c17-b5d0-35a262fd9b44",
   "metadata": {
    "tags": []
   },
   "source": [
    "# BTC Momentum Plotly\n",
    "***\n",
    "Date: 2023-02-10 \n",
    "\n",
    "Goal: Determine performance of momentum indicators on BTC  \n",
    "\n",
    "Hypothesis: Systematic momentum strategies will underperform holding due to lags failing to trade high vol. Best to use as explanatory indicators rather than trading triggers.\n",
    "\n",
    "Method: \n",
    "- Part 1: Build indicators. This is not out of universe or out of time, as such is **descriptive only**.  \n",
    "- Part 2: Test strategy. Perform backtest with out of time (and if applicable out of universe) data. "
   ]
  },
  {
   "cell_type": "markdown",
   "id": "3e529562-b831-4cec-8a41-dcc0c8cc1934",
   "metadata": {
    "tags": []
   },
   "source": [
    "#### Progress"
   ]
  },
  {
   "cell_type": "markdown",
   "id": "c591a0a8-984b-422b-b1bd-ca082835ba61",
   "metadata": {
    "tags": []
   },
   "source": [
    "To do:\n",
    "- Display forward returns on MACD over SMA [In Progress]\n",
    "- Performance summary for OB/OS [In Progress]\n",
    "- Performance summary for MACD SMA \n",
    "- Build MACD EMA\n",
    "- Build RSI\n",
    "- Push data into S3 for better performance\n",
    "- Find way to share this notebook interactively\n",
    "\n",
    "Done:\n",
    "- Get and parse coin data from Coin Metrics [Done]\n",
    "- Get and parse SPY data from WSJ [Done]\n",
    "- Build OB/OS indicators on SMA [Done]\n",
    "- Display forward returns on OB/OS on SMA [Done]\n",
    "- Build MACD over SMA [Done]"
   ]
  },
  {
   "cell_type": "markdown",
   "id": "a346a10a-1370-4689-8d6c-758af62e86d7",
   "metadata": {},
   "source": [
    "#### Summary Performance"
   ]
  },
  {
   "cell_type": "markdown",
   "id": "5fc8604c-89f8-46fe-8fe2-dc0982b332c3",
   "metadata": {
    "tags": []
   },
   "source": [
    "## 1. Data \n",
    "***"
   ]
  },
  {
   "cell_type": "markdown",
   "id": "8c8678e8-58f1-480e-9731-71fe31580f70",
   "metadata": {
    "tags": []
   },
   "source": [
    "##### Import Libraries"
   ]
  },
  {
   "cell_type": "code",
   "execution_count": null,
   "id": "f1d61a46-001c-413c-bbb0-8139ca4401b7",
   "metadata": {
    "tags": []
   },
   "outputs": [],
   "source": [
    "import glob \n",
    "import numpy as np\n",
    "import pandas as pd\n",
    "import plotly.express as px\n",
    "import plotly.graph_objects as go\n",
    "from plotly.subplots import make_subplots\n",
    "import plotly.io as pio\n",
    "pio.renderers.default = \"plotly_mimetype+notebook_connected\""
   ]
  },
  {
   "cell_type": "markdown",
   "id": "17d4cbbe-25f6-4f51-a5b5-7c7e86ed8119",
   "metadata": {
    "tags": []
   },
   "source": [
    "### 1.1. Tokens\n",
    "Source: Coinmetrics community data as of Feb 1, 2023.  \n",
    "Remove coins without reference rates and market cap."
   ]
  },
  {
   "cell_type": "code",
   "execution_count": null,
   "id": "a77897bb-6415-46ad-8bf8-b69159f6fed8",
   "metadata": {
    "tags": []
   },
   "outputs": [],
   "source": [
    "# Check number of coins\n",
    "all_tokens = glob.glob('data/tokens/*.csv')"
   ]
  },
  {
   "cell_type": "code",
   "execution_count": null,
   "id": "68b75478-b0be-4693-aa11-106f7c505194",
   "metadata": {
    "tags": []
   },
   "outputs": [],
   "source": [
    "# Create dictionary of coin market data\n",
    "coins_dict = dict()\n",
    "for token in all_tokens:\n",
    "    coin_name = token.split('/')[-1].split('.')[0]\n",
    "    coins_dict[coin_name] = pd.read_csv(token, usecols=lambda x: x in ['time','ReferenceRateUSD', 'CapMrktCurUSD', 'CapMrktEstUSD'], parse_dates=['time'])\n",
    "    \n",
    "# Delete coins without at least price\n",
    "coin_del = []\n",
    "for coin in coins_dict.keys():\n",
    "    if not {'ReferenceRateUSD'} <= set(coins_dict[coin].columns):\n",
    "        coin_del.append(coin)\n",
    "\n",
    "for coin in coin_del:\n",
    "    coins_dict.pop(coin, None)\n",
    "\n",
    "# Change current / estimated to just market cap, change reference rates to price\n",
    "for coin in coins_dict.keys():\n",
    "    if {'ReferenceRateUSD','CapMrktCurUSD'} <= set(coins_dict[coin].columns):\n",
    "        coins_dict[coin] = coins_dict[coin].rename(columns={'ReferenceRateUSD':'price','CapMrktCurUSD':'cap'})\n",
    "    elif {'ReferenceRateUSD','CapMrktEstUSD'} <= set(coins_dict[coin].columns):\n",
    "        coins_dict[coin] = coins_dict[coin].rename(columns={'ReferenceRateUSD':'price','CapMrktEstUSD':'cap'})\n",
    "\n",
    "# Create DataFrame of coin prices\n",
    "coin_price = coins_dict['btc'].rename(columns={'price':'btc'})[['time','btc']]\n",
    "\n",
    "coin_price.set_index('time',inplace=True)\n",
    "\n",
    "for coin in coins_dict.keys():\n",
    "    if not coin == 'btc':\n",
    "        try:\n",
    "            to_concat = coins_dict[coin].rename(columns={'price':coin})[['time',coin]]\n",
    "            to_concat.set_index('time',inplace=True)\n",
    "            coin_price = pd.concat([coin_price, to_concat],axis=1,join='outer')\n",
    "        except KeyError:\n",
    "            pass\n",
    "\n",
    "coin_price = coin_price.fillna(method='ffill').fillna(0)"
   ]
  },
  {
   "cell_type": "code",
   "execution_count": null,
   "id": "71d752a5-2639-42c5-8e0a-bac4bc48297a",
   "metadata": {
    "tags": []
   },
   "outputs": [],
   "source": [
    "print(f'number of coins total: {len(all_tokens)}')\n",
    "print(f'number of coins with price data: {len(coin_price.columns)}')"
   ]
  },
  {
   "cell_type": "markdown",
   "id": "06d9c1b3-6d76-4e16-95c1-89527b1dd1b1",
   "metadata": {
    "tags": []
   },
   "source": [
    "### 1.2. Equities Index\n",
    "Source: WSJ market data.  \n",
    "Note, WSJ data column headers have an empty space in front, hilarious"
   ]
  },
  {
   "cell_type": "code",
   "execution_count": null,
   "id": "8f34ea76-a888-401d-9aeb-3ee4fe79ea04",
   "metadata": {
    "tags": []
   },
   "outputs": [],
   "source": [
    "# Check number of indexes\n",
    "all_indexes = glob.glob('data/equities-indexes/*.csv')"
   ]
  },
  {
   "cell_type": "code",
   "execution_count": null,
   "id": "7eeab4d1-a6a6-4caf-b7e7-afe8f57f5e5b",
   "metadata": {
    "tags": []
   },
   "outputs": [],
   "source": [
    "index_dict = dict()\n",
    "for index in all_indexes:\n",
    "    index_name = index.split('/')[-1].split('.')[0]\n",
    "    index_dict[index_name] = pd.read_csv(index, parse_dates=['Date'])"
   ]
  },
  {
   "cell_type": "code",
   "execution_count": null,
   "id": "b97a1fac-26a6-4da0-a2e2-8aed4dc76112",
   "metadata": {
    "tags": []
   },
   "outputs": [],
   "source": [
    "index_dict['spy'] = index_dict['spy'].sort_values(by='Date')"
   ]
  },
  {
   "cell_type": "code",
   "execution_count": null,
   "id": "291aec8d-7896-4726-8674-3d2856360f06",
   "metadata": {
    "tags": []
   },
   "outputs": [],
   "source": [
    "index_dict['spy'].set_index(['Date'], inplace=True)"
   ]
  },
  {
   "cell_type": "code",
   "execution_count": null,
   "id": "3e8da465-78b8-47c2-97c9-4d574745f875",
   "metadata": {
    "tags": []
   },
   "outputs": [],
   "source": [
    "print(f'number of indexes total: {len(all_indexes)}')"
   ]
  },
  {
   "cell_type": "markdown",
   "id": "22aaa95d-1176-4939-a90e-2c70603723a6",
   "metadata": {
    "tags": []
   },
   "source": [
    "## 2. Simple Moving Average Spread - Overbought / Oversold\n",
    "***"
   ]
  },
  {
   "cell_type": "markdown",
   "id": "290a7b7f-2cd3-415f-b73e-8fe7cc0afdd3",
   "metadata": {
    "jp-MarkdownHeadingCollapsed": true,
    "tags": []
   },
   "source": [
    "### 2.1. Logic"
   ]
  },
  {
   "cell_type": "markdown",
   "id": "ab0f0364-f95f-43f4-80c5-58f5640229b5",
   "metadata": {
    "jp-MarkdownHeadingCollapsed": true,
    "tags": []
   },
   "source": [
    "### 2.2. Define Indicators\n",
    "1. Log Price\n",
    "2. Spread \n",
    "3. Overbought table\n",
    "4. Oversold table\n",
    "5. Overbought summary performance\n",
    "6. Oversold summary performance"
   ]
  },
  {
   "cell_type": "code",
   "execution_count": null,
   "id": "7ba5b543-ad57-44ac-92d6-6f809c576beb",
   "metadata": {
    "tags": []
   },
   "outputs": [],
   "source": [
    "# Figure 0: Price ------------------------------------------------\n",
    "\n",
    "def plot_price(coin, trailing, start_date, end_date):\n",
    "    fig = make_subplots(specs=[[{\"secondary_y\": True}]])\n",
    "    fig.add_trace(\n",
    "        go.Scatter(\n",
    "            x=coin_price[coin].loc[start_date:end_date].index,\n",
    "            y=coin_price[coin].loc[start_date:end_date],\n",
    "            name=coin,\n",
    "        ),\n",
    "        secondary_y=False,\n",
    "    )\n",
    "    fig.add_trace(\n",
    "        go.Scatter(\n",
    "            x=index_dict['spy'].loc[start_date:end_date].index,\n",
    "            y=index_dict['spy'].loc[start_date:end_date][' Open'],\n",
    "            name='spy'\n",
    "        ),\n",
    "        secondary_y=True,\n",
    "\n",
    "    )\n",
    "    fig.update_layout(\n",
    "        title={\n",
    "            'text':'Price',\n",
    "        },\n",
    "    )  \n",
    "    return fig"
   ]
  },
  {
   "cell_type": "code",
   "execution_count": null,
   "id": "226d9a22-b72d-437f-ae28-42f1b7ef14ec",
   "metadata": {
    "tags": []
   },
   "outputs": [],
   "source": [
    "# Figure 1: COIN Log Price ------------------------------------------------\n",
    "\n",
    "def plot_log_price(coin, trailing, start_date, end_date):\n",
    "    fig = make_subplots(specs=[[{\"secondary_y\": True}]])\n",
    "    fig.add_trace(\n",
    "        go.Scatter(\n",
    "            x=coin_price[coin].loc[start_date:end_date].index,\n",
    "            y=coin_price[coin].loc[start_date:end_date],\n",
    "            name=coin,\n",
    "        ),\n",
    "        secondary_y=False,\n",
    "    )\n",
    "    fig.add_trace(\n",
    "        go.Scatter(\n",
    "            x=index_dict['spy'].loc[start_date:end_date].index,\n",
    "            y=index_dict['spy'].loc[start_date:end_date][' Open'],\n",
    "            name='spy'\n",
    "        ),\n",
    "        secondary_y=True,\n",
    "\n",
    "    )\n",
    "    fig.update_yaxes(type='log', zeroline=True, zerolinecolor='rgba(255, 255, 255, 0.5)',)\n",
    "    fig.update_layout(\n",
    "        title={\n",
    "            'text':'Log Price',\n",
    "        },\n",
    "    )  \n",
    "    return fig"
   ]
  },
  {
   "cell_type": "code",
   "execution_count": null,
   "id": "d35ae1ae-383b-45ba-9bab-4f4a90c134d5",
   "metadata": {
    "tags": []
   },
   "outputs": [],
   "source": [
    "# Figure 2: COIN SMA Spread ------------------------------------------------\n",
    "\n",
    "def plot_spread_price(coin, trailing, start_date, end_date):\n",
    "    price_coin = coin_price[coin].loc[start_date:end_date]\n",
    "    zscore_coin = (price_coin - price_coin.rolling(trailing).mean())/price_coin.rolling(trailing).std()\n",
    "    \n",
    "    price_index = index_dict['spy'].loc[start_date:end_date][' Open']\n",
    "    zscore_index = (price_index - price_index.rolling(trailing).mean())/price_index.rolling(trailing).std()\n",
    "    \n",
    "    \n",
    "    fig = make_subplots(specs=[[{\"secondary_y\": True}]])\n",
    "    fig.add_trace(\n",
    "        go.Scatter(\n",
    "            x=coin_price[coin].loc[start_date:end_date].index,\n",
    "            y=zscore_coin,\n",
    "            name=f'{trailing}ma {coin}'\n",
    "        ),\n",
    "        secondary_y=False,\n",
    "    )\n",
    "    fig.add_trace(\n",
    "        go.Scatter(\n",
    "            x=index_dict['spy'].loc[start_date:end_date].index,\n",
    "            y=zscore_index,\n",
    "            name=f'{trailing}ma spy'\n",
    "        ),\n",
    "        secondary_y=True,\n",
    "    )\n",
    "    fig.add_shape(type='rect',\n",
    "                  x0=start_date,\n",
    "                  y0=1,\n",
    "                  x1=end_date,\n",
    "                  y1=2,\n",
    "                  line=dict(color='Red'),\n",
    "                  fillcolor='red',\n",
    "                  opacity=0.1,)\n",
    "    fig.add_shape(type='rect',\n",
    "                  x0=start_date,\n",
    "                  y0=2,\n",
    "                  x1=end_date,\n",
    "                  y1=4,\n",
    "                  line=dict(color='Red'),\n",
    "                  fillcolor='red',\n",
    "                  opacity=0.25,)\n",
    "    fig.add_shape(type='rect',\n",
    "                  x0=start_date,\n",
    "                  y0=-1,\n",
    "                  x1=end_date,\n",
    "                  y1=-2,\n",
    "                  line=dict(color='green'),\n",
    "                  fillcolor='green',\n",
    "                  opacity=0.1,)\n",
    "    fig.add_shape(type='rect',\n",
    "                  x0=start_date,\n",
    "                  y0=-2,\n",
    "                  x1=end_date,\n",
    "                  y1=-4,\n",
    "                  line=dict(color='green'),\n",
    "                  fillcolor='green',\n",
    "                  opacity=0.25,)\n",
    "    fig.update_yaxes(\n",
    "        range = [\n",
    "            -4,4\n",
    "            \n",
    "        ]\n",
    "    )\n",
    "    fig.update_layout(\n",
    "        title={\n",
    "            'text': f'{trailing}ma spread {coin} + spy ',\n",
    "        },\n",
    "    )\n",
    "    return fig\n",
    "    "
   ]
  },
  {
   "cell_type": "code",
   "execution_count": null,
   "id": "b467de17-5d87-42af-b4cf-5b1e3503b5b0",
   "metadata": {
    "tags": []
   },
   "outputs": [],
   "source": [
    "# Figure 3:COIN Overbought table ------------------------------------------------\n",
    "\n",
    "def plot_table_overbought_coin(coin, trailing, start_date, end_date,rolling, obthreshold):    \n",
    "\t# coin price\n",
    "    price = coin_price[coin].loc[start_date:end_date]\n",
    "    # coin zscore all\n",
    "    zscore = (price - price.rolling(trailing).mean())/price.rolling(trailing).std()\n",
    "    # coin zscore trailing\n",
    "    zscore_roll = zscore.rolling(rolling).mean()\n",
    "\t# event date\n",
    "    zscore_threshold_date = zscore_roll[zscore_roll>=int(obthreshold)].index.date\n",
    "\t# event z score\n",
    "    zscore_threshold_value = zscore_roll[zscore_roll>=int(obthreshold)].map('{:.1f}'.format)\n",
    "\n",
    "\t# set up for loop for table values\n",
    "    days = [7, 30, 60, 90, 180, 360]\n",
    "    column_headers = [\n",
    "    \t'Event Date',\n",
    "\t     f'{rolling} sma',\n",
    "    ]\n",
    "    values = [\n",
    "\t\tzscore_threshold_date,\n",
    "\t\tzscore_threshold_value,\n",
    "    ]\n",
    "    for day in days:\n",
    "        ret = (coin_price[coin].pct_change(day).shift(-day).fillna(0)*100).map('{:.1f}'.format).loc[zscore_roll[zscore_roll>=int(obthreshold)].index]\n",
    "        values.append(ret)\n",
    "        column_headers.append(f'{day}d ret%')\n",
    "\n",
    "\t# plot the table\n",
    "    fig = go.Figure(\n",
    "        data=[\n",
    "            go.Table(\n",
    "                header=dict(\n",
    "                    values=column_headers\n",
    "                ),\n",
    "                cells=dict(\n",
    "                \tvalues = values,\n",
    "                 \tfont_size=10,\n",
    "                )\n",
    "            )\n",
    "        ]\n",
    "    )\n",
    "    fig.update_layout(\n",
    "        height=500,\n",
    "        title={\n",
    "            'text': f'Overbought on {rolling}ma zscore, {trailing}ma price, zscore >= {obthreshold}',\n",
    "        },\n",
    "    )\n",
    "    return fig"
   ]
  },
  {
   "cell_type": "code",
   "execution_count": null,
   "id": "67becdc5-0046-44db-bc19-91c8cbbc9451",
   "metadata": {
    "tags": []
   },
   "outputs": [],
   "source": [
    "# Figure 4: COIN Oversold table ------------------------------------------------\n",
    "\n",
    "def plot_table_oversold_coin(coin, trailing, start_date, end_date,rolling, osthreshold):    \n",
    "\t# coin price\n",
    "    price = coin_price[coin].loc[start_date:end_date]\n",
    "    # coin zscore all\n",
    "    zscore = (price - price.rolling(trailing).mean())/price.rolling(trailing).std()\n",
    "    # coin zscore trailing\n",
    "    zscore_roll = zscore.rolling(rolling).mean()\n",
    "\t# event date\n",
    "    zscore_threshold_date = zscore_roll[zscore_roll<=int(osthreshold)].index.date\n",
    "\t# event z score\n",
    "    zscore_threshold_value = zscore_roll[zscore_roll<=int(osthreshold)].map('{:.1f}'.format)\n",
    "\n",
    "\t# set up for loop for table values\n",
    "    days = [7, 30, 60, 90, 180, 360]\n",
    "    column_headers = [\n",
    "    \t'Event Date',\n",
    "\t     f'{rolling} sma',\n",
    "    ]\n",
    "    values = [\n",
    "\t\tzscore_threshold_date,\n",
    "\t\tzscore_threshold_value,\n",
    "    ]\n",
    "    for day in days:\n",
    "        ret = (coin_price[coin].pct_change(day).shift(-day).fillna(0)*100).map('{:.1f}'.format).loc[zscore_roll[zscore_roll<=int(osthreshold)].index]\n",
    "        values.append(ret)\n",
    "        column_headers.append(f'{day}d ret%')\n",
    "\n",
    "\t# plot the table\n",
    "    fig = go.Figure(\n",
    "        data=[\n",
    "            go.Table(\n",
    "                header=dict(\n",
    "                    values=column_headers\n",
    "                ),\n",
    "                cells=dict(\n",
    "                \tvalues = values,\n",
    "                 \tfont_size=10,\n",
    "                )\n",
    "            )\n",
    "        ]\n",
    "    )\n",
    "    fig.update_layout(\n",
    "        height=500,\n",
    "        title={\n",
    "            'text': f'Oversold on {rolling}ma zscore, {trailing}ma price, zscore <= {osthreshold}',\n",
    "        },\n",
    "    )\n",
    "    return fig\n"
   ]
  },
  {
   "cell_type": "code",
   "execution_count": null,
   "id": "59ce5090-3be1-453e-853a-7601542d64e6",
   "metadata": {
    "tags": []
   },
   "outputs": [],
   "source": [
    "# Figure 5:COIN Overbought SUMMARY -------------------------------\n",
    "\n",
    "def plot_table_overbought_coin_summary(coin, trailing, start_date, end_date,rolling, obthreshold):    \n",
    "    price = coin_price[coin].loc[start_date:end_date]\n",
    "    \n",
    "    zscore = (price - price.rolling(trailing).mean())/price.rolling(trailing).std()\n",
    "    \n",
    "    zscore_roll = zscore.rolling(rolling).mean()\n",
    "    \n",
    "    days = [7, 30, 60, 90, 180, 360]\n",
    "\n",
    "    column_headers = [' ',]\n",
    "    \n",
    "    values=[\n",
    "    # 1st col\n",
    "        [\n",
    "        'Mean Returns',\n",
    "        'Median Returns',\n",
    "        'Count of Ups',\n",
    "        'Count of Downs',\n",
    "        'All Mean Returns'\n",
    "        ]\n",
    "    ]\n",
    "    \n",
    "    for day in days:\n",
    "        ret = (coin_price[coin].pct_change(day).shift(-day).fillna(0)*100).loc[zscore_roll[zscore_roll>=int(obthreshold)].index]\n",
    "\n",
    "        mean = \"{:.2f}\".format(ret.mean())\n",
    "\n",
    "        median = \"{:.2f}\".format(ret.median())\n",
    "\n",
    "        number_up = ret[ret>0].count()\n",
    "\n",
    "        number_down = ret[ret<0].count()\n",
    "\n",
    "        all_mean = \"{:.2f}\".format(coin_price[coin].loc[start_date:end_date].pct_change(day).shift(-day).mean())\n",
    "    \n",
    "        values.append([mean, median, number_up, number_down, all_mean])\n",
    "        column_headers.append(f'{day}d ret%')\n",
    "    \n",
    "    fig = go.Figure(\n",
    "        data=[\n",
    "            go.Table(\n",
    "                header=dict(\n",
    "                    values=column_headers\n",
    "                ),\n",
    "                cells=dict(\n",
    "                    values=values,\n",
    "#                     fill_color=[\n",
    "                        \n",
    "#                     ]\n",
    "                )\n",
    "            )\n",
    "        ]\n",
    "    )\n",
    "    fig.update_layout(\n",
    "        title={\n",
    "            'text': f'SUMMARY Overbought on {rolling}ma zscore, {trailing}ma price, zscore >= {obthreshold}',\n",
    "        },\n",
    "    )\n",
    "    return fig\n"
   ]
  },
  {
   "cell_type": "code",
   "execution_count": null,
   "id": "3a2b5c6b-dde5-4808-baf8-a6e8acbe0521",
   "metadata": {
    "tags": []
   },
   "outputs": [],
   "source": [
    "# Figure 6:COIN Oversold SUMMARY -------------------------------\n",
    "\n",
    "def plot_table_oversold_coin_summary(coin, trailing, start_date, end_date,rolling, osthreshold):    \n",
    "    price = coin_price[coin].loc[start_date:end_date]\n",
    "    \n",
    "    zscore = (price - price.rolling(trailing).mean())/price.rolling(trailing).std()\n",
    "    \n",
    "    zscore_roll = zscore.rolling(rolling).mean()\n",
    "    \n",
    "    days = [7, 30, 60, 90, 180, 360]\n",
    "\n",
    "    column_headers = [' ',]\n",
    "    \n",
    "    values=[\n",
    "    # 1st col\n",
    "        [\n",
    "        'Mean Returns',\n",
    "        'Median Returns',\n",
    "        'Count of Ups',\n",
    "        'Count of Downs',\n",
    "        'All Mean Returns'\n",
    "        ]\n",
    "    ]\n",
    "    \n",
    "    for day in days:\n",
    "        ret = (coin_price[coin].pct_change(day).shift(-day).fillna(0)*100).loc[zscore_roll[zscore_roll<=int(osthreshold)].index]\n",
    "\n",
    "        mean = \"{:.2f}\".format(ret.mean())\n",
    "\n",
    "        median = \"{:.2f}\".format(ret.median())\n",
    "\n",
    "        number_up = ret[ret>0].count()\n",
    "\n",
    "        number_down = ret[ret<0].count()\n",
    "\n",
    "        all_mean = \"{:.2f}\".format(coin_price[coin].loc[start_date:end_date].pct_change(day).shift(-day).mean())\n",
    "    \n",
    "        values.append([mean, median, number_up, number_down, all_mean])\n",
    "        column_headers.append(f'{day}d ret%')\n",
    "    \n",
    "    fig = go.Figure(\n",
    "        data=[\n",
    "            go.Table(\n",
    "                header=dict(\n",
    "                    values=column_headers\n",
    "                ),\n",
    "                cells=dict(\n",
    "                    values=values\n",
    "#                     fill_color=[\n",
    "                        \n",
    "#                     ]\n",
    "                )\n",
    "            )\n",
    "        ]\n",
    "    )\n",
    "    fig.update_layout(\n",
    "        title={\n",
    "            'text': f'SUMMARY Oversold on {rolling}ma zscore, {trailing}ma price, zscore <= {osthreshold}',\n",
    "        },\n",
    "    )\n",
    "    return fig\n"
   ]
  },
  {
   "cell_type": "code",
   "execution_count": null,
   "id": "e774ca49-8090-4031-a854-ba6a2473d46d",
   "metadata": {
    "tags": []
   },
   "outputs": [],
   "source": [
    "# Figure 7 : Correlations Plot\n",
    "def plot_correlation(coin, trailing, start_date, end_date, rolling):\n",
    "    df = pd.concat([coin_price[coin].loc[start_date:end_date].pct_change(), index_dict['spy'].loc[start_date:end_date][' Open'].pct_change()], join=\"outer\", axis=1)\n",
    "    df = df.fillna(method='ffill').fillna(method='bfill')\n",
    "    df = df.rename(columns={' Open': 'spy'})\n",
    "    dfcorr = df[coin].rolling(trailing).corr(df['spy'])\n",
    "    fig = go.Figure()\n",
    "    fig.add_trace(\n",
    "        go.Scatter(\n",
    "            x=dfcorr.index,\n",
    "            y=dfcorr,\n",
    "            name=f'{trailing} corr',\n",
    "        )\n",
    "    )\n",
    "    fig.update_layout(\n",
    "        title={\n",
    "            'text': f'{coin} + spy Correlation {trailing}d',\n",
    "        },\n",
    "    )\n",
    "    return fig"
   ]
  },
  {
   "cell_type": "markdown",
   "id": "381e8df5-6491-4ff2-bc60-7567e8f7c2ef",
   "metadata": {
    "tags": []
   },
   "source": [
    "### 2.3. Set Parameters"
   ]
  },
  {
   "cell_type": "code",
   "execution_count": null,
   "id": "e1564fac-f8cf-4322-9c6c-ea095d6367ca",
   "metadata": {
    "tags": []
   },
   "outputs": [],
   "source": [
    "# adjust these parameters\n",
    "coin = 'btc'\n",
    "start_date = '2011-01-01' #adjust this according to coin e.g. set to 2017 for 'eth'\n",
    "end_date = '2023-01-29'\n",
    "trailing = 360\n",
    "rolling = 5\n",
    "obthreshold = 3\n",
    "osthreshold = -3\n",
    "\n",
    "# *** do not edit below ***************************************************************************************************\n",
    "fig_price = plot_price(coin, trailing, start_date, end_date)\n",
    "fig_log = plot_log_price(coin, trailing, start_date, end_date)\n",
    "fig_spread = plot_spread_price(coin, trailing, start_date, end_date)\n",
    "fig_corr = plot_correlation(coin, trailing, start_date, end_date, rolling)\n",
    "table_ob = plot_table_overbought_coin(coin, trailing, start_date, end_date,rolling, obthreshold)    \n",
    "table_os = plot_table_oversold_coin(coin, trailing, start_date, end_date,rolling, osthreshold)    \n",
    "table_ob_summary = plot_table_overbought_coin_summary(coin, trailing, start_date, end_date,rolling, obthreshold)    \n",
    "table_os_summary = plot_table_oversold_coin_summary(coin, trailing, start_date, end_date,rolling, osthreshold)    \n",
    "\n",
    "# COMMENT IN FOR INTERACTIVE PLOTS (not avaliable over static HTML)\n",
    "fig_price.show()\n",
    "fig_log.show()\n",
    "fig_spread.show()\n",
    "fig_corr.show()\n",
    "table_ob.show()\n",
    "table_os.show()\n",
    "table_ob_summary.show()\n",
    "table_os_summary.show()"
   ]
  },
  {
   "cell_type": "markdown",
   "id": "0002084c-16df-4b45-900b-0195657d7cbd",
   "metadata": {
    "tags": []
   },
   "source": [
    "### 2.3 Set Parameters - STATIC"
   ]
  },
  {
   "cell_type": "markdown",
   "id": "e1ad8b43-5c95-48f0-91a6-fa718c5c2579",
   "metadata": {},
   "source": [
    "- coin = 'btc'\n",
    "- start_date = '2011-01-01' \n",
    "- end_date = '2023-01-29'\n",
    "- trailing = 360\n",
    "- rolling z score= 5\n",
    "- obthreshold = 3\n",
    "- osthreshold = -3"
   ]
  },
  {
   "cell_type": "code",
   "execution_count": null,
   "id": "947ab0bb-f8ef-4119-bb4b-6d170a52f1d0",
   "metadata": {
    "tags": []
   },
   "outputs": [],
   "source": [
    "# for static html plots pngs\n",
    "from IPython.display import Image\n",
    "pio.kaleido.scope.default_format = \"png\"\n",
    "pio.kaleido.scope.default_width = \"1280\"\n",
    "pio.kaleido.scope.default_height = \"720\"\n",
    "pio.kaleido.scope.default_scale = \"2\""
   ]
  },
  {
   "cell_type": "code",
   "execution_count": null,
   "id": "9bf4458c-aaf4-4ad2-9199-528eaec4705b",
   "metadata": {
    "tags": []
   },
   "outputs": [],
   "source": [
    "Image(fig_price.to_image())"
   ]
  },
  {
   "cell_type": "code",
   "execution_count": null,
   "id": "8756bbd0-8ad2-4411-b43b-648c4779caae",
   "metadata": {
    "tags": []
   },
   "outputs": [],
   "source": [
    "Image(fig_log.to_image())"
   ]
  },
  {
   "cell_type": "code",
   "execution_count": null,
   "id": "b21dfc89-6f06-4ba2-af36-55b57efe5271",
   "metadata": {
    "tags": []
   },
   "outputs": [],
   "source": [
    "Image(fig_spread.to_image())"
   ]
  },
  {
   "cell_type": "code",
   "execution_count": null,
   "id": "e6f7b781-75cb-4bd0-aa64-25971384f95f",
   "metadata": {
    "tags": []
   },
   "outputs": [],
   "source": [
    "Image(fig_corr.to_image())"
   ]
  },
  {
   "cell_type": "code",
   "execution_count": null,
   "id": "6404b537-e4b0-4421-a205-39ea7ec7cd86",
   "metadata": {
    "tags": []
   },
   "outputs": [],
   "source": [
    "Image(table_ob_summary.to_image(height='400'))"
   ]
  },
  {
   "cell_type": "code",
   "execution_count": null,
   "id": "fa174a93-bb61-4695-b552-44b96026b2c1",
   "metadata": {
    "tags": []
   },
   "outputs": [],
   "source": [
    "Image(table_os_summary.to_image(height='400'))"
   ]
  },
  {
   "cell_type": "markdown",
   "id": "34b6115a-b3b6-4ca9-b41f-67820a49fb45",
   "metadata": {
    "tags": []
   },
   "source": [
    "## 3. Simple Moving Average Convergence / Divergence (MACD)\n",
    "***"
   ]
  },
  {
   "cell_type": "markdown",
   "id": "174b4dd5-b7ec-4865-ab0e-01f245d16300",
   "metadata": {},
   "source": [
    "MACD Logic:  \n",
    "- MACD line = 12d price EMA - 26d price EMA\n",
    "- Signal line = 9d MACD EMA\n",
    "- Long: MACD line - Signal line > 0\n",
    "- Short: MACD line - signal line < 0\n",
    "\n",
    "EMA logic:\n",
    "- EMA(n) = price(n)x(smoothing/days(n)) + EMA(n-1)x(1-(smoothing/days(n)))\n",
    "\n",
    "To do:\n",
    "- iterate over varying 12/26 to optimize for btc\n",
    "- iterate over trailing for signal line"
   ]
  },
  {
   "cell_type": "markdown",
   "id": "fdf6e1df-b7fc-4fc5-9bab-d4b2fd3bf180",
   "metadata": {
    "tags": []
   },
   "source": [
    "### 3.1. MACD with SMA"
   ]
  },
  {
   "cell_type": "markdown",
   "id": "e042794d-142a-4764-9cc7-cd5ce6d3f6a2",
   "metadata": {
    "jp-MarkdownHeadingCollapsed": true,
    "tags": []
   },
   "source": [
    "#### 3.1.1. Create Figures"
   ]
  },
  {
   "cell_type": "code",
   "execution_count": null,
   "id": "7fccf9d5-b14f-4bbe-ba53-b1291a930ec3",
   "metadata": {
    "tags": []
   },
   "outputs": [],
   "source": [
    "# Figure 1: MACD SMA Coin ------------------------------------------------\n",
    "\n",
    "def plot_macd_sma(coin, macd1ma, macd2ma, signalma, start_date, end_date):\n",
    "    fig = make_subplots(specs=[[{\"secondary_y\": True}]])\n",
    "    \n",
    "    sma12 = coin_price[coin].rolling(macd1ma).mean().fillna(0).loc[start_date:end_date]\n",
    "    sma26 = coin_price[coin].rolling(macd2ma).mean().fillna(0).loc[start_date:end_date]\n",
    "    macd_sma = sma12 - sma26\n",
    "    macd_sma_signal = macd_sma.rolling(signalma).mean().fillna(0)\n",
    "    macd_sma_cross = macd_sma - macd_sma_signal\n",
    "\n",
    "    macd_sma_over = macd_sma_cross[macd_sma_cross>0]\n",
    "    macd_sma_under = macd_sma_cross[macd_sma_cross<0]\n",
    "    \n",
    "    \n",
    "    # fig = go.Figure()\n",
    "    fig.add_trace(\n",
    "        go.Scatter(\n",
    "            x=coin_price[coin].loc[start_date:end_date].index,\n",
    "            y=coin_price[coin].loc[start_date:end_date],\n",
    "            name=f'{coin} price',\n",
    "            line=dict(width=1),\n",
    "            opacity=0.9,\n",
    "        ),\n",
    "        secondary_y=True,\n",
    "        \n",
    "    )\n",
    "    fig.add_trace(\n",
    "        go.Bar(\n",
    "            x=macd_sma_under.index,\n",
    "            y=macd_sma_under,\n",
    "            name=f'{coin} MACD SMA under',\n",
    "        ),\n",
    "        secondary_y=False,\n",
    "\n",
    "    )\n",
    "    fig.add_trace(\n",
    "        go.Bar(\n",
    "            x=macd_sma_over.index,\n",
    "            y=macd_sma_over,\n",
    "            name=f'{coin} MACD SMA over',\n",
    "        ),\n",
    "        secondary_y=False,\n",
    "\n",
    "    )\n",
    "    fig.add_trace(\n",
    "        go.Scatter(\n",
    "            x=macd_sma.index,\n",
    "            y=macd_sma,\n",
    "            name=f'{coin} MACD SMA 12d/26d',\n",
    "        ),\n",
    "        secondary_y=False,\n",
    "    )\n",
    "    fig.add_trace(\n",
    "        go.Scatter(\n",
    "            x=macd_sma_signal.index,\n",
    "            y=macd_sma_signal,\n",
    "            name=f'{coin} MACD SMA signal',\n",
    "        ),\n",
    "        secondary_y=False,\n",
    "\n",
    "    )\n",
    "    fig.update_layout(\n",
    "        title={\n",
    "            'text':f'{coin} MACD SMA {macd1ma}d/{macd2ma}d cross {signalma}d signal - {start_date} to {end_date}',\n",
    "        },\n",
    "    )  \n",
    "    return fig"
   ]
  },
  {
   "cell_type": "code",
   "execution_count": null,
   "id": "03e19d36-05a7-4be6-9028-cf6b1481e8c1",
   "metadata": {
    "tags": []
   },
   "outputs": [],
   "source": [
    "# Figure 3:macd sma cross overtable ------------------------------------------------\n",
    "\n",
    "def plot_table_macd_sma_returns(coin, macd1ma, macd2ma, signalma, start_date, end_date):\n",
    "    \n",
    "    sma12 = coin_price[coin].rolling(macd1ma).mean().fillna(0).loc[start_date:end_date]\n",
    "    sma26 = coin_price[coin].rolling(macd2ma).mean().fillna(0).loc[start_date:end_date]\n",
    "    macd_sma = sma12 - sma26\n",
    "    macd_sma_signal = macd_sma.rolling(signalma).mean().fillna(0)\n",
    "    macd_sma_cross = macd_sma - macd_sma_signal\n",
    "    \n",
    "    cross_trigger = macd_sma_cross.shift(1)/macd_sma_cross\n",
    "    cross_dates = [pd.to_datetime(start_date)] + list(cross_trigger[cross_trigger<0].index) + [pd.to_datetime(end_date)]\n",
    "    \n",
    "    # get signal on day n, implement trade day after n+1\n",
    "    ret = []\n",
    "    for i in range(0,len(cross_dates)-1):\n",
    "        cross_start = cross_dates[i] + pd.Timedelta(1, unit='D')\n",
    "        cross_end = cross_dates[i+1]\n",
    "        if macd_sma_cross.loc[cross_dates[i]] > 0:\n",
    "            ret.append((coin_price['btc'].loc[cross_end]/coin_price['btc'].loc[cross_start] - 1))\n",
    "        else:\n",
    "            ret.append((-(coin_price['btc'].loc[cross_end]/coin_price['btc'].loc[cross_start] - 1)))\n",
    "        # if macd_sma_cross.loc[cross_start] > 0:\n",
    "        #     ret.append(\"{:.2f}%\".format((coin_price['btc'].loc[cross_end]/coin_price['btc'].loc[cross_start] - 1)*100))\n",
    "        # else:\n",
    "        #     ret.append(\"{:.2f}%\".format((-(coin_price['btc'].loc[cross_end]/coin_price['btc'].loc[cross_start] - 1))*100))\n",
    "\n",
    "    # set up table\n",
    "    column_headers = [\n",
    "    \t'Cross value',\n",
    "    \t'Cross Start',\n",
    "    \t# 'Cross End',\n",
    "    \t# 'Days',\n",
    "        'Returns',\n",
    "        # 'Volatility',\n",
    "        # 'Sharpe',\n",
    "    ]\n",
    "    values = [\n",
    "\t\tmacd_sma_cross.loc[cross_dates],\n",
    "        macd_sma_cross.loc[cross_dates].index.date,\n",
    "        ret,\n",
    "    ]\n",
    "\n",
    "\n",
    "\t# plot the table\n",
    "    fig = go.Figure(\n",
    "        data=[\n",
    "            go.Table(\n",
    "                header=dict(\n",
    "                    values=column_headers\n",
    "                ),\n",
    "                cells=dict(\n",
    "                \tvalues = values,\n",
    "                 \tfont_size=10,\n",
    "                )\n",
    "            )\n",
    "        ]\n",
    "    )\n",
    "    fig.update_layout(\n",
    "        height=500,\n",
    "        title={\n",
    "            'text': f'MACD Returns',\n",
    "        },\n",
    "    )\n",
    "    return fig, ret\n"
   ]
  },
  {
   "cell_type": "code",
   "execution_count": null,
   "id": "ade26806-f4da-4a9f-94de-a2840ee8a0ce",
   "metadata": {
    "tags": []
   },
   "outputs": [],
   "source": [
    "def plot_macd_sma_eqv(coin, macd1ma, macd2ma, signalma, start_date, end_date):\n",
    "    \n",
    "    sma12 = coin_price[coin].rolling(macd1ma).mean().fillna(0).loc[start_date:end_date]\n",
    "    sma26 = coin_price[coin].rolling(macd2ma).mean().fillna(0).loc[start_date:end_date]\n",
    "    macd_sma = sma12 - sma26\n",
    "    macd_sma_signal = macd_sma.rolling(signalma).mean().fillna(0)\n",
    "    macd_sma_cross = macd_sma - macd_sma_signal\n",
    "    \n",
    "    cross_trigger = macd_sma_cross.shift(1)/macd_sma_cross\n",
    "    cross_dates = [pd.to_datetime(start_date)] + list(cross_trigger[cross_trigger<0].index) + [pd.to_datetime(end_date)]\n",
    "    \n",
    "    eq_btc= 100\n",
    "    eq_btc_ts = []\n",
    "    for ret in (coin_price[coin].pct_change(1)+1).loc[start_date:end_date]:\n",
    "        eq_btc = eq_btc*ret\n",
    "        eq_btc_ts.append(eq_btc)\n",
    "    \n",
    "    eq_macd_sma = 100\n",
    "    eq_macd_sma_ts = []\n",
    "    for ret in [x+1 for x in eq_macd_sma_ret]:\n",
    "        eq_macd_sma = eq_macd_sma*ret\n",
    "        eq_macd_sma_ts.append(eq_macd_sma)\n",
    "    \n",
    "    fig = go.Figure()\n",
    "    \n",
    "    # fig = go.Figure()\n",
    "    fig.add_trace(\n",
    "        go.Scatter(\n",
    "            x=coin_price[coin].loc[start_date:end_date].index,\n",
    "            y=eq_btc_ts[:-1],\n",
    "            name=f'{coin} eqv',\n",
    "        ),        \n",
    "    )\n",
    "    fig.add_trace(\n",
    "        go.Scatter(\n",
    "            x=macd_sma_cross.loc[cross_dates].index[:-1],\n",
    "            y=eq_macd_sma_ts,\n",
    "            name=f'{coin} MACD SMA eqv',\n",
    "        ),\n",
    "    )\n",
    "    fig.update_layout(\n",
    "        title={\n",
    "            'text':'Equity Value of MACD vs Holding',\n",
    "        },\n",
    "    )  \n",
    "    return fig, eq_macd_sma_ts, eq_btc_ts\n"
   ]
  },
  {
   "cell_type": "code",
   "execution_count": null,
   "id": "512c080a-da50-4095-8f81-fd3a3f687efd",
   "metadata": {},
   "outputs": [],
   "source": [
    "def plot_macd_sma_performance(coin, macd1ma, macd2ma, signalma, start_date, end_date):\n",
    "    \n",
    "    sma12 = coin_price[coin].rolling(macd1ma).mean().fillna(0).loc[start_date:end_date]\n",
    "    sma26 = coin_price[coin].rolling(macd2ma).mean().fillna(0).loc[start_date:end_date]\n",
    "    macd_sma = sma12 - sma26\n",
    "    macd_sma_signal = macd_sma.rolling(signalma).mean().fillna(0)\n",
    "    macd_sma_cross = macd_sma - macd_sma_signal\n",
    "    \n",
    "    cross_trigger = macd_sma_cross.shift(1)/macd_sma_cross\n",
    "    cross_dates = [pd.to_datetime(start_date)] + list(cross_trigger[cross_trigger<0].index) + [pd.to_datetime(end_date)]\n",
    "    \n",
    "    eq_btc= 100\n",
    "    eq_btc_ts = []\n",
    "    for ret in (coin_price[coin].pct_change(1)+1).loc[start_date:end_date]:\n",
    "        eq_btc = eq_btc*ret\n",
    "        eq_btc_ts.append(eq_btc)\n",
    "    \n",
    "    eq_macd_sma = 100\n",
    "    eq_macd_sma_ts = []\n",
    "    for ret in [x+1 for x in eq_macd_sma_ret]:\n",
    "        eq_macd_sma = eq_macd_sma*ret\n",
    "        eq_macd_sma_ts.append(eq_macd_sma)\n",
    "    \n",
    "    fig = go.Figure()\n",
    "    \n",
    "    # set up table\n",
    "    column_headers = [\n",
    "    \t'',\n",
    "    \t'Cross Start',\n",
    "    \t# 'Cross End',\n",
    "    \t# 'Days',\n",
    "        'Returns',\n",
    "        # 'Volatility',\n",
    "        # 'Sharpe',\n",
    "    ]\n",
    "    values = [\n",
    "\t\tmacd_sma_cross.loc[cross_dates],\n",
    "        macd_sma_cross.loc[cross_dates].index.date,\n",
    "        ret,\n",
    "    ]\n",
    "\n",
    "\n",
    "\t# plot the table\n",
    "    fig = go.Figure(\n",
    "        data=[\n",
    "            go.Table(\n",
    "                header=dict(\n",
    "                    values=column_headers\n",
    "                ),\n",
    "                cells=dict(\n",
    "                \tvalues = values,\n",
    "                 \tfont_size=10,\n",
    "                )\n",
    "            )\n",
    "        ]\n",
    "    )\n",
    "    fig.update_layout(\n",
    "        height=500,\n",
    "        title={\n",
    "            'text': f'MACD Performance Summary',\n",
    "        },\n",
    "    )\n",
    "    return fig"
   ]
  },
  {
   "cell_type": "markdown",
   "id": "d632aa92-3bde-4b7d-ad16-0589327d52dd",
   "metadata": {
    "tags": []
   },
   "source": [
    "#### 3.1.2. MACD SMA Parameters"
   ]
  },
  {
   "cell_type": "code",
   "execution_count": null,
   "id": "4fcc019b-b933-4d88-aa60-ddd04cd95d8c",
   "metadata": {
    "tags": []
   },
   "outputs": [],
   "source": [
    "macd1ma = 12\n",
    "macd2ma = 26\n",
    "signalma = 9\n",
    "coin = 'btc'\n",
    "start_date = '2017-11-29'\n",
    "end_date = '2019-01-29'\n",
    "\n",
    "fig_macd_sma = plot_macd_sma(coin, macd1ma, macd2ma, signalma, start_date, end_date)\n",
    "fig_macd_sma_ret, eq_macd_sma_ret =  plot_table_macd_sma_returns(coin, macd1ma, macd2ma, signalma, start_date, end_date)\n",
    "fig_eqv, eq_macd_sma_ts, eq_btc_ts =  plot_macd_sma_eqv(coin, macd1ma, macd2ma, signalma, start_date, end_date)\n",
    "\n",
    "# COMMENT IN FOR INTERACTIVE PLOTS (not avaliable over static html)\n",
    "fig_macd_sma.show()\n",
    "fig_eqv.show()\n",
    "fig_macd_sma_ret.show()\n"
   ]
  },
  {
   "cell_type": "markdown",
   "id": "a06b08ba-b3a9-46b3-aed9-9a14b7c2de43",
   "metadata": {
    "tags": []
   },
   "source": [
    "#### 3.1.3. MACD SMA Parameters - STATIC"
   ]
  },
  {
   "cell_type": "markdown",
   "id": "c0f3a16c-565c-4587-96d9-a39cd76670a5",
   "metadata": {},
   "source": [
    "- macd1ma = 12\n",
    "- macd2ma = 26\n",
    "- signalma = 9\n",
    "- coin = 'btc'\n",
    "- start_date = '2022-01-29'\n",
    "- end_date = '2023-01-29'"
   ]
  },
  {
   "cell_type": "code",
   "execution_count": null,
   "id": "84167481-eff3-499c-9d87-cce274cc46c1",
   "metadata": {
    "tags": []
   },
   "outputs": [],
   "source": [
    "\n",
    "Image(fig_macd_sma.to_image())\n"
   ]
  },
  {
   "cell_type": "code",
   "execution_count": null,
   "id": "32561d48-2f28-4243-839c-353779f80257",
   "metadata": {},
   "outputs": [],
   "source": [
    "Image(fig_eqv.to_image())"
   ]
  },
  {
   "cell_type": "code",
   "execution_count": null,
   "id": "3dabcf2c-9a4a-42e9-bdb5-d4f7c049c8e8",
   "metadata": {
    "tags": []
   },
   "outputs": [],
   "source": [
    "Image(fig_macd_sma_ret.to_image())"
   ]
  },
  {
   "cell_type": "markdown",
   "id": "30d470cf-ec35-4a8f-8d14-f1b5c3cbb96c",
   "metadata": {
    "tags": []
   },
   "source": [
    "## Back Testing\n",
    "***\n",
    "Do this after "
   ]
  },
  {
   "cell_type": "code",
   "execution_count": null,
   "id": "2ae29466-040d-4f23-bf83-2298e1019d2e",
   "metadata": {
    "tags": []
   },
   "outputs": [],
   "source": [
    "train_start = '2011-01-01'\n",
    "train_end = '2017-06-30'\n",
    "test_start = '2017-07-01'\n",
    "test_end = '2023-01-29'\n",
    "trailing = [7, 14, 30, 60, 90, 180, 360]"
   ]
  },
  {
   "cell_type": "code",
   "execution_count": null,
   "id": "15097153-048a-4aff-931a-506c94d04526",
   "metadata": {
    "tags": []
   },
   "outputs": [],
   "source": [
    "coin_price['btc'].loc[train_start:train_end]"
   ]
  },
  {
   "cell_type": "code",
   "execution_count": null,
   "id": "965499d0-0056-4a65-b5aa-dab5fbd6d571",
   "metadata": {
    "tags": []
   },
   "outputs": [],
   "source": [
    "coin_price['btc'].loc[test_start:test_end]"
   ]
  }
 ],
 "metadata": {
  "kernelspec": {
   "display_name": "Python 3 (ipykernel)",
   "language": "python",
   "name": "python3"
  },
  "language_info": {
   "codemirror_mode": {
    "name": "ipython",
    "version": 3
   },
   "file_extension": ".py",
   "mimetype": "text/x-python",
   "name": "python",
   "nbconvert_exporter": "python",
   "pygments_lexer": "ipython3",
   "version": "3.11.0"
  }
 },
 "nbformat": 4,
 "nbformat_minor": 5
}
